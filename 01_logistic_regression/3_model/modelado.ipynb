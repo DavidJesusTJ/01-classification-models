{
 "cells": [
  {
   "cell_type": "markdown",
   "id": "5c96743a",
   "metadata": {},
   "source": [
    "# <b><center>Modelo de Regresión Logística</b></center>"
   ]
  },
  {
   "cell_type": "markdown",
   "id": "fb2310ba",
   "metadata": {},
   "source": [
    "## **Librerías**"
   ]
  },
  {
   "cell_type": "code",
   "execution_count": 138,
   "id": "951aca02-aaea-4afa-8b86-1bfb0063a733",
   "metadata": {},
   "outputs": [],
   "source": [
    "import pandas as pd\n",
    "import numpy as np\n",
    "from sklearn.linear_model import LogisticRegression\n",
    "import optuna\n",
    "from sklearn.model_selection import cross_val_score\n",
    "from sklearn.metrics import (\n",
    "    matthews_corrcoef,\n",
    "    cohen_kappa_score,\n",
    "    fbeta_score,\n",
    "    log_loss,\n",
    "    brier_score_loss,\n",
    "    precision_score,\n",
    "    recall_score,\n",
    "    confusion_matrix,\n",
    "    make_scorer, \n",
    "    cohen_kappa_score,\n",
    "    classification_report,\n",
    "    roc_curve, \n",
    "    auc,\n",
    "    precision_recall_curve, \n",
    "    average_precision_score,\n",
    "    f1_score\n",
    ")\n",
    "from scipy.stats import chi2\n",
    "import matplotlib.pyplot as plt\n",
    "import seaborn as sns\n",
    "from sklearn.calibration import calibration_curve\n",
    "from statsmodels.stats.outliers_influence import variance_inflation_factor\n",
    "import statsmodels.api as sm\n",
    "from statsmodels.api import Logit\n",
    "from scipy import stats\n",
    "from statsmodels.formula.api import logit\n",
    "from statsmodels.stats.stattools import durbin_watson\n",
    "from statsmodels.sandbox.stats.runs import runstest_1samp\n",
    "import joblib"
   ]
  },
  {
   "cell_type": "markdown",
   "id": "ed34c652",
   "metadata": {},
   "source": [
    "## **Datos**"
   ]
  },
  {
   "cell_type": "code",
   "execution_count": 3,
   "id": "afb995b0",
   "metadata": {},
   "outputs": [],
   "source": [
    "df_train = pd.read_csv('df_train.csv')\n",
    "df_test = pd.read_csv('df_test.csv')\n",
    "\n",
    "X_train = df_train.drop('Has_Hypertension', axis=1)\n",
    "y_train = df_train['Has_Hypertension']\n",
    "\n",
    "X_test = df_test.drop('Has_Hypertension', axis=1)\n",
    "y_test = df_test['Has_Hypertension']"
   ]
  },
  {
   "cell_type": "markdown",
   "id": "fd3b3113-8904-4d9a-aa84-3a4c2c6a0355",
   "metadata": {},
   "source": [
    "## **Supuestos**"
   ]
  },
  {
   "cell_type": "markdown",
   "id": "7291d8a9-f3c1-428d-8485-9d19f8f54d63",
   "metadata": {},
   "source": [
    "### Independencia de observaciones"
   ]
  },
  {
   "cell_type": "code",
   "execution_count": 134,
   "id": "95d54bcc-d979-4d04-a06c-54860d6abc62",
   "metadata": {},
   "outputs": [
    {
     "name": "stdout",
     "output_type": "stream",
     "text": [
      "Estadístico Z de la prueba de rachas: 0.4784\n",
      "p-valor de la prueba: 0.6323\n",
      "No se rechaza la hipótesis de independencia. Observaciones independientes.\n"
     ]
    }
   ],
   "source": [
    "X = X_train.select_dtypes(include=np.number)\n",
    "y = y_train.astype(int)\n",
    "X = sm.add_constant(X)\n",
    "model = Logit(y, X).fit(disp=False)\n",
    "\n",
    "pred_probs = model.predict(X)\n",
    "residuals_pearson = (y - pred_probs) / np.sqrt(pred_probs * (1 - pred_probs))\n",
    "runs_z, runs_pvalue = runstest_1samp(residuals_pearson, correction=True)\n",
    "\n",
    "print(f\"Estadístico Z de la prueba de rachas: {runs_z:.4f}\")\n",
    "print(f\"p-valor de la prueba: {runs_pvalue:.4f}\")\n",
    "\n",
    "if runs_pvalue < 0.05:\n",
    "    print(\"Se rechaza la hipótesis de independencia de observaciones.\")\n",
    "else:\n",
    "    print(\"No se rechaza la hipótesis de independencia. Observaciones independientes.\")"
   ]
  },
  {
   "cell_type": "markdown",
   "id": "2af89b36-6be0-46b8-8822-5d65fef64d08",
   "metadata": {},
   "source": [
    "### No multicolinealidad severa"
   ]
  },
  {
   "cell_type": "code",
   "execution_count": 132,
   "id": "5950696b-61e6-4aa5-a3b4-a7804d87bd34",
   "metadata": {},
   "outputs": [
    {
     "name": "stdout",
     "output_type": "stream",
     "text": [
      "         Variable       VIF\n",
      "0           const  4.462542\n",
      "1             Age  1.001498\n",
      "2     Salt_Intake  1.004482\n",
      "3    Stress_Score  1.007177\n",
      "4      BP_History  1.007324\n",
      "5  Sleep_Duration  1.005632\n",
      "6             BMI  1.003996\n",
      "7  Family_History  1.003759\n",
      "8  Exercise_Level  1.004201\n",
      "9  Smoking_Status  1.001982\n",
      "\n",
      "\n",
      "Todos los valores de VIF están por debajo del umbral común de 5, lo que indica que no existe multicolinealidad severa entre las variables independientes.\n",
      "VIF máximo observado: const = 4.46 (esperado por ser la constante).\n",
      "VIFs de las variables restantes oscilan entre ~1.00 y ~1.01, lo que indica baja correlación entre predictores.\n",
      "Con base en este análisis, no es necesario eliminar variables por multicolinealidad.\n"
     ]
    }
   ],
   "source": [
    "X_vif = X_train.select_dtypes(include=[np.number]).copy()\n",
    "X_vif = sm.add_constant(X_vif)\n",
    "\n",
    "vif_data = pd.DataFrame({\n",
    "    \"Variable\": X_vif.columns,\n",
    "    \"VIF\": [variance_inflation_factor(X_vif.values, i) for i in range(X_vif.shape[1])]\n",
    "})\n",
    "print(vif_data)\n",
    "print(\"\\n\\n\"\n",
    "    \"Todos los valores de VIF están por debajo del umbral común de 5, lo que indica que no existe multicolinealidad severa entre las variables independientes.\\n\"\n",
    "    \"VIF máximo observado: const = 4.46 (esperado por ser la constante).\\n\"\n",
    "    \"VIFs de las variables restantes oscilan entre ~1.00 y ~1.01, lo que indica baja correlación entre predictores.\\n\"\n",
    "    \"Con base en este análisis, no es necesario eliminar variables por multicolinealidad.\"\n",
    ")"
   ]
  },
  {
   "cell_type": "markdown",
   "id": "d4f18884-d7eb-4011-8fe5-5ebc971df77d",
   "metadata": {},
   "source": [
    "### Linealidad del logit"
   ]
  },
  {
   "cell_type": "code",
   "execution_count": 135,
   "id": "c494fc42-1dc1-401f-bd7e-970c92a0bb28",
   "metadata": {},
   "outputs": [
    {
     "name": "stdout",
     "output_type": "stream",
     "text": [
      "Optimization terminated successfully.\n",
      "         Current function value: 0.214841\n",
      "         Iterations 10\n",
      "P-valores de la prueba de linealidad (Box-Tidwell):\n",
      "log_Age               0.302244\n",
      "log_BMI               0.127547\n",
      "log_Salt_Intake       0.290509\n",
      "log_Sleep_Duration    0.607876\n",
      "log_Stress_Score      0.420441\n",
      "dtype: float64\n",
      "\n",
      "Todas las variables numéricas evaluadas (Age, BMI, Salt_Intake, Sleep_Duration, Stress_Score) \n",
      "cumplen con el supuesto de linealidad en el logit, por lo que pueden usarse directamente en la \n",
      "regresión logística sin preocuparte de transformar su forma funcional.\n"
     ]
    }
   ],
   "source": [
    "X_bt = X_train[[col for col in X_train.columns if X_train[col].nunique() > 10]]\n",
    "X_bt = X_bt.select_dtypes(include=[np.number]).copy()\n",
    "X_bt['y'] = y_train.values\n",
    "log_cols = []\n",
    "for col in X_bt.columns.difference(['y']):\n",
    "    X_bt[f'log_{col}'] = X_bt[col] * np.log(np.where(X_bt[col] > 0, X_bt[col], np.nan))\n",
    "    log_cols.append(f'log_{col}')\n",
    "\n",
    "X_bt_clean = X_bt.dropna()\n",
    "predictors = ' + '.join(X_bt_clean.columns.difference(['y']))\n",
    "formula = f'y ~ {predictors}'\n",
    "model = logit(formula, data=X_bt_clean).fit()\n",
    "pval_box_tidwell = model.pvalues.reindex(log_cols)\n",
    "print(\"P-valores de la prueba de linealidad (Box-Tidwell):\")\n",
    "print(pval_box_tidwell)\n",
    "print(\"\\nTodas las variables numéricas evaluadas (Age, BMI, Salt_Intake, Sleep_Duration, Stress_Score) \\ncumplen con el supuesto de linealidad en el logit, por lo que pueden usarse directamente en la \\nregresión logística sin preocuparte de transformar su forma funcional.\")"
   ]
  },
  {
   "cell_type": "markdown",
   "id": "60ce5eaf-4e79-41cf-9570-036ff5211fec",
   "metadata": {},
   "source": [
    "### Ausencia de outliers influyentes"
   ]
  },
  {
   "cell_type": "code",
   "execution_count": 122,
   "id": "afcc6e4d-d2aa-46a1-afe3-2d31c5db6572",
   "metadata": {},
   "outputs": [
    {
     "name": "stdout",
     "output_type": "stream",
     "text": [
      "Observaciones influyentes: 130 / 1488, no son muchos valores atípicos, representan solo el 8.7366% de los datos\n"
     ]
    }
   ],
   "source": [
    "X_sm = sm.add_constant(X_train.select_dtypes(include=[np.number]))\n",
    "logit_model = Logit(y_train, X_sm).fit(disp=0)\n",
    "influence = logit_model.get_influence()\n",
    "cooks_d = influence.cooks_distance[0]\n",
    "threshold = 4 / X_sm.shape[0]\n",
    "influential_points = np.where(cooks_d > threshold)[0]\n",
    "print(f\"Observaciones influyentes: {len(influential_points)} / {X_sm.shape[0]}, no son muchos valores atípicos, representan solo el {(len(influential_points)/X_sm.shape[0])*100:.4f}% de los datos\")"
   ]
  },
  {
   "cell_type": "markdown",
   "id": "62a35b0d-95aa-40f1-9d70-2da313c43dd2",
   "metadata": {},
   "source": [
    "### Tamaño muestral suficiente"
   ]
  },
  {
   "cell_type": "code",
   "execution_count": 119,
   "id": "a73db4fd-9ba7-4e14-b3e0-64fd605897e0",
   "metadata": {},
   "outputs": [
    {
     "name": "stdout",
     "output_type": "stream",
     "text": [
      "Observaciones por predictor: 114.5, lo cual es mayor de los mínimo necesario que es 10 o 20 datos por variable\n"
     ]
    }
   ],
   "source": [
    "n = X_train.shape[0]\n",
    "k = X_train.shape[1]\n",
    "print(f\"Observaciones por predictor: {n / k:.1f}, lo cual es mayor de los mínimo necesario que es 10 o 20 datos por variable\")"
   ]
  },
  {
   "cell_type": "markdown",
   "id": "56b292da-cd28-4f69-a129-944c47deda73",
   "metadata": {},
   "source": [
    "## **Evaluación del Modelo**"
   ]
  },
  {
   "cell_type": "code",
   "execution_count": 144,
   "id": "a6b1ae0f-b16f-4137-92cc-1737a909182a",
   "metadata": {},
   "outputs": [],
   "source": [
    "X = X_train.copy()\n",
    "X = X.astype({col: int for col in X.select_dtypes(include='bool').columns})\n",
    "y = y_train.copy()\n",
    "X = X.apply(pd.to_numeric)\n",
    "y = pd.to_numeric(y)\n",
    "X_stats = sm.add_constant(X)\n",
    "mod_stats = sm.Logit(y, X_stats).fit(disp=0)"
   ]
  },
  {
   "cell_type": "markdown",
   "id": "a2294bc0-57db-4a67-8ca2-b56f6002de2b",
   "metadata": {},
   "source": [
    "### Pseudo R2"
   ]
  },
  {
   "cell_type": "code",
   "execution_count": 156,
   "id": "7e15c14f-9930-4eb8-a0e9-17192e3c5a72",
   "metadata": {},
   "outputs": [
    {
     "name": "stdout",
     "output_type": "stream",
     "text": [
      "Pseudo R²:\n",
      "  - Cox & Snell     : 0.4936\n",
      "  - Nagelkerke      : 0.6585\n",
      "  - McFadden        : 0.4914\n",
      "  - Basado en devianza: 0.4914\n"
     ]
    }
   ],
   "source": [
    "llf_model = mod_stats.llf\n",
    "llf_null = mod_stats.llnull\n",
    "n = mod_stats.nobs\n",
    "\n",
    "# McFadden\n",
    "r2_mcfadden = 1 - (llf_model / llf_null)\n",
    "\n",
    "# Cox & Snell\n",
    "r2_cox_snell = 1 - np.exp((2 / n) * (llf_null - llf_model))\n",
    "\n",
    "# Nagelkerke corregido\n",
    "denom = 1 - np.exp((2 / n) * llf_null)\n",
    "r2_nagelkerke = r2_cox_snell / denom if denom != 0 else np.nan\n",
    "\n",
    "# Devianza\n",
    "dev_model = -2 * llf_model\n",
    "dev_null = -2 * llf_null\n",
    "r2_devianza = 1 - (dev_model / dev_null)\n",
    "\n",
    "print(\"Pseudo R²:\")\n",
    "print(f\"  - Cox & Snell     : {r2_cox_snell:.4f}\")\n",
    "print(f\"  - Nagelkerke      : {r2_nagelkerke:.4f}\")\n",
    "print(f\"  - McFadden        : {r2_mcfadden:.4f}\")\n",
    "print(f\"  - Basado en devianza: {r2_devianza:.4f}\")"
   ]
  },
  {
   "cell_type": "markdown",
   "id": "d510d80c-4ea7-4908-a4f9-a14b10f009ca",
   "metadata": {},
   "source": [
    "El pseudo R² de **Cox & Snell (0.4936)** sugiere que el modelo explica cerca del 49% de la variabilidad en los datos, aunque está limitado por no alcanzar un máximo de 1. El **Nagelkerke R² (0.6585)**, que ajusta esta limitación, indica que el modelo tiene una capacidad explicativa alta, cercana al 66%, en una escala comparable al R² clásico. El **McFadden R² (0.4914)**, considerado más conservador, también refleja un ajuste fuerte, pues valores entre 0.2 y 0.4 ya se consideran razonables. Finalmente, el R² basado en devianza coincide con McFadden, lo que reafirma la consistencia del ajuste. En conjunto, los indicadores sugieren que el modelo logra capturar patrones relevantes sin sobreajuste, siendo estadísticamente sólido y confiable para propósitos explicativos y predictivos."
   ]
  },
  {
   "cell_type": "markdown",
   "id": "6347068b-f4ba-4121-948a-ebcfce3664c6",
   "metadata": {},
   "source": [
    "### Estadístico de verosimilitud"
   ]
  },
  {
   "cell_type": "code",
   "execution_count": 158,
   "id": "9f4683f3-9078-4010-8a4e-56d9fd0de801",
   "metadata": {},
   "outputs": [
    {
     "name": "stdout",
     "output_type": "stream",
     "text": [
      "P-valor:  3.514177122351216e-208\n"
     ]
    }
   ],
   "source": [
    "lr_stat = 2 * (ll_model - ll_null)\n",
    "df_lr = mod_stats.df_model\n",
    "p_value_lr = chi2.sf(lr_stat, df_lr)\n",
    "print('P-valor: ', p_value_lr)"
   ]
  },
  {
   "cell_type": "markdown",
   "id": "e60262db-9422-427e-9f9c-92c9375127f4",
   "metadata": {},
   "source": [
    "La prueba de verosimilitud (Likelihood Ratio Test) contrasta las siguientes hipótesis:\n",
    "\n",
    "- **H₀ (hipótesis nula):** el modelo completo no mejora significativamente el ajuste comparado con el modelo nulo (sin predictores).\n",
    "- **H₁ (hipótesis alterna):** el modelo completo mejora significativamente el ajuste respecto al modelo nulo.\n",
    "\n",
    "Dado que el **p-valor = 3.51e-208** es prácticamente cero, se rechaza contundentemente la hipótesis nula. Esto indica que al incorporar los predictores, el modelo logra un ajuste estadísticamente superior al del modelo vacío, justificando su complejidad y validando su utilidad."
   ]
  },
  {
   "cell_type": "markdown",
   "id": "e016f661-7a81-49b5-a56a-7d0f3d9bf9a2",
   "metadata": {},
   "source": [
    "### Desviancia residual "
   ]
  },
  {
   "cell_type": "code",
   "execution_count": 159,
   "id": "98945f40-6bb4-4c38-9634-3e995e8cbbf4",
   "metadata": {},
   "outputs": [
    {
     "name": "stdout",
     "output_type": "stream",
     "text": [
      "Desviancia Modelo con Predictores:  1047.8295826177807\n",
      "Desviancia Modelo Nulo:  2060.385998472594\n"
     ]
    }
   ],
   "source": [
    "devianza = -2 * ll_model\n",
    "print('Desviancia Modelo con Predictores: ', devianza)\n",
    "print('Desviancia Modelo Nulo: ', dev_null)"
   ]
  },
  {
   "cell_type": "markdown",
   "id": "90d9f28f-b19a-40d2-af23-cf1500e74f37",
   "metadata": {},
   "source": [
    "La **desviancia del modelo con predictores** (1047.83) es considerablemente menor que la **desviancia del modelo nulo** (2060.39), lo que indica que el modelo con variables explicativas mejora notablemente el ajuste respecto al modelo sin predictores. Esta reducción sustancial en la desviancia sugiere que las variables incluidas aportan información significativa para explicar la respuesta. Además, esta diferencia es la base del test de verosimilitud, cuyo valor-p extremadamente bajo confirma la superioridad del modelo completo sobre el modelo nulo."
   ]
  },
  {
   "cell_type": "markdown",
   "id": "a3d65283-a404-455f-9a8e-cfefc9cce537",
   "metadata": {},
   "source": [
    "### AIC y BIC"
   ]
  },
  {
   "cell_type": "code",
   "execution_count": 160,
   "id": "6e7663fd-8b81-4f3e-bda4-d58d9b6f2d1a",
   "metadata": {},
   "outputs": [
    {
     "name": "stdout",
     "output_type": "stream",
     "text": [
      "AIC del modelo con predictores:  1075.8295826177807\n",
      "AIC del modelo nulo:  2062.385998471855\n",
      "BIC del modelo con predictores:  1150.1022176332833\n",
      "BIC del modelo nulo:  2067.6911866872483\n"
     ]
    }
   ],
   "source": [
    "X_null = np.ones((n, 1))\n",
    "mod_null = sm.Logit(y, X_null).fit(disp=0)\n",
    "aic_null = mod_null.aic\n",
    "bic_null = mod_null.bic\n",
    "\n",
    "aic = mod_stats.aic\n",
    "bic = mod_stats.bic\n",
    "print('AIC del modelo con predictores: ', aic)\n",
    "print('AIC del modelo nulo: ', aic_null)\n",
    "print('BIC del modelo con predictores: ', bic)\n",
    "print('BIC del modelo nulo: ', bic_null)"
   ]
  },
  {
   "cell_type": "markdown",
   "id": "a06449c4-387c-439b-9f3b-2b769c248a84",
   "metadata": {},
   "source": [
    "- **AIC (Criterio de Información de Akaike):**\n",
    "  - Modelo con predictores: **1075.83**\n",
    "  - Modelo nulo (solo la media): **2062.39**\n",
    "  - ➤ El modelo con predictores tiene un AIC **mucho menor**, lo que sugiere que ofrece un **mejor equilibrio entre ajuste y complejidad**. El descenso drástico indica una mejora sustancial al incluir variables explicativas.\n",
    "\n",
    "- **BIC (Criterio de Información Bayesiano):**\n",
    "  - Modelo con predictores: **1150.10**\n",
    "  - Modelo nulo: **2067.69**\n",
    "  - ➤ Aunque el BIC penaliza más fuertemente la complejidad del modelo, **también favorece claramente** el modelo con predictores. Esto refuerza que **la mejora en ajuste es suficientemente grande** como para justificar la inclusión de las variables.\n",
    "\n",
    "**Conclusión**: Tanto AIC como BIC indican de forma contundente que el modelo con predictores es **muy superior** al modelo nulo. Es decir, las variables independientes utilizadas aportan **información real y útil** para predecir la presencia de hipertensión."
   ]
  },
  {
   "cell_type": "markdown",
   "id": "08286b44-1f15-48eb-a413-a2a3b419a5e6",
   "metadata": {},
   "source": [
    "### Coeficientes, odds ratio, IC, p-valores"
   ]
  },
  {
   "cell_type": "code",
   "execution_count": 150,
   "id": "6fd072b0-6272-4a23-8882-8faccf188518",
   "metadata": {},
   "outputs": [
    {
     "name": "stdout",
     "output_type": "stream",
     "text": [
      "                          Coeficiente  Odds Ratio   CI 2.5%   CI 97.5%       p-valor\n",
      "const                       -3.830049    0.021709  0.012241   0.038500  3.205114e-39\n",
      "Age                          1.735829    5.673629  4.208822   7.648237  4.585995e-30\n",
      "Salt_Intake                  0.784650    2.191639  1.767673   2.717291  8.463514e-13\n",
      "Stress_Score                 1.866068    6.462837  4.623577   9.033755  9.152385e-28\n",
      "BP_History                   2.287119    9.846532  7.626954  12.712047  6.005382e-69\n",
      "Sleep_Duration              -0.885171    0.412644  0.328342   0.518590  3.159533e-14\n",
      "BMI                          0.834011    2.302535  1.848065   2.868767  1.049813e-13\n",
      "Family_History               2.309259   10.066964  7.062642  14.349271  2.423243e-37\n",
      "Exercise_Level               0.111115    1.117524  0.918055   1.360333  2.680068e-01\n",
      "Smoking_Status               2.476844   11.903633  7.929465  17.869614  6.542701e-33\n",
      "Medication_Beta Blocker     -0.148219    0.862242  0.518757   1.433159  5.674944e-01\n",
      "Medication_Diuretic          0.332505    1.394457  0.776937   2.502789  2.651928e-01\n",
      "Medication_Not specified     0.002693    1.002697  0.638028   1.575796  9.906831e-01\n",
      "Medication_Other            -0.123634    0.883703  0.478567   1.631810  6.927756e-01\n"
     ]
    }
   ],
   "source": [
    "params = mod_stats.params\n",
    "conf = mod_stats.conf_int()\n",
    "odds_ratios = np.exp(params)\n",
    "conf_odds = np.exp(conf)\n",
    "odds_table = pd.DataFrame({\n",
    "    \"Coeficiente\": params,\n",
    "    \"Odds Ratio\": odds_ratios,\n",
    "    \"CI 2.5%\": conf_odds[0],\n",
    "    \"CI 97.5%\": conf_odds[1],\n",
    "    \"p-valor\": mod_stats.pvalues\n",
    "})\n",
    "pd.set_option(\"display.width\", 200)\n",
    "pd.set_option(\"display.max_columns\", 10)\n",
    "print(odds_table)"
   ]
  },
  {
   "cell_type": "markdown",
   "id": "93b4d9f8-2253-4857-96d2-3fdc89c316db",
   "metadata": {},
   "source": [
    "En este modelo, la variable objetivo es la presencia de hipertensión (1 = tiene hipertensión, 0 = no la tiene). Todos los coeficientes se interpretan en función de cómo modifican la **log-odds** de tener hipertensión, y los **odds ratios (OR)** indican cuánto se multiplican las probabilidades al aumentar una unidad en cada predictor. \n",
    "\n",
    "* **Significancia estadística**\n",
    "\n",
    "Los **p-valores individuales** nos permiten evaluar si el efecto de cada predictor sobre la hipertensión es estadísticamente distinto de cero. En este caso, la mayoría de las variables tienen **p-valores extremadamente pequeños (<< 0.05)**, lo que indica una fuerte evidencia estadística de que influyen significativamente en la presencia de hipertensión. Solo unas pocas variables no son significativas (por ejemplo, `Exercise_Level`, `Medication_Beta Blocker`, `Medication_Diuretic`, `Medication_Other`, `Medication_Not specified`), lo que sugiere que, bajo este modelo, **no se asocian estadísticamente con cambios en la probabilidad de hipertensión**.\n",
    "\n",
    "* **Variables más influyentes**\n",
    "\n",
    "    - **Smoking_Status (Coef: 2.47, OR ≈ 11.90)**  \n",
    "      Fumar se asocia con un incremento de casi **12 veces** en las probabilidades de tener hipertensión. Este es uno de los factores de riesgo más potentes del modelo.  \n",
    "      ➤ *Interpretación:* los fumadores tienen una probabilidad de hipertensión mucho mayor que los no fumadores, incluso controlando por otras variables.\n",
    "    \n",
    "    - **Family_History (Coef: 2.31, OR ≈ 10.07)**  \n",
    "      Tener antecedentes familiares de hipertensión multiplica por **10** las probabilidades de padecerla.  \n",
    "      ➤ *Interpretación:* la carga genética o ambiente familiar relacionado juega un papel crucial.\n",
    "    \n",
    "    - **BP_History (Coef: 2.29, OR ≈ 9.85)**  \n",
    "      Una historia previa de presión arterial elevada casi **multiplica por 10** la probabilidad de tener hipertensión actual.  \n",
    "      ➤ *Interpretación:* es un predictor clínico muy fuerte, como era de esperarse.\n",
    "    \n",
    "    - **Stress_Score (Coef: 1.87, OR ≈ 6.46)**  \n",
    "      Por cada unidad adicional en el puntaje de estrés, las probabilidades aumentan más de **6 veces**.  \n",
    "      ➤ *Interpretación:* el estrés tiene un efecto significativo sobre la hipertensión, posiblemente relacionado con la activación constante del sistema nervioso simpático.\n",
    "    \n",
    "    - **Age (Coef: 1.73, OR ≈ 5.67)**  \n",
    "      Por cada año o unidad adicional en edad, la probabilidad de hipertensión se **multiplica por 5.67**.  \n",
    "      ➤ *Interpretación:* la edad es un factor fisiológico natural que incrementa el riesgo de hipertensión.\n",
    "    \n",
    "    - **BMI (Coef: 0.83, OR ≈ 2.30)**  \n",
    "      Cada unidad adicional en el índice de masa corporal **dobla** las probabilidades de hipertensión.  \n",
    "      ➤ *Interpretación:* el sobrepeso/obesidad es un factor crítico modificable.\n",
    "    \n",
    "    - **Salt_Intake (Coef: 0.78, OR ≈ 2.19)**  \n",
    "      Un aumento en el consumo de sal incrementa la probabilidad de hipertensión en **más del doble**.  \n",
    "      ➤ *Interpretación:* refuerza la recomendación de controlar la ingesta de sodio como medida preventiva.\n",
    "\n",
    "* **Factores protectores**\n",
    "\n",
    "    - **Sleep_Duration (Coef: -0.88, OR ≈ 0.41)**  \n",
    "      A diferencia de las demás, esta variable tiene un **coeficiente negativo**, lo cual indica un efecto protector. Por cada hora adicional de sueño, las probabilidades de hipertensión **se reducen un 59%**.  \n",
    "      ➤ *Interpretación:* dormir más se asocia con menor riesgo de hipertensión, posiblemente por su relación con menor estrés y mejor regulación hormonal.\n",
    "\n",
    "* **Variables no significativas (p > 0.05)**\n",
    "\n",
    "    - **Exercise_Level**\n",
    "    - **Medication_Beta Blocker**\n",
    "    - **Medication_Diuretic**\n",
    "    - **Medication_Other**\n",
    "    - **Medication_Not specified**\n",
    "\n",
    "    Esto **no significa que no tengan ningún efecto clínico**, sino que en este conjunto de datos y controlando por las otras variables, su relación con la hipertensión no es estadísticamente significativa.\n",
    "\n",
    "* **Conclusión general**\n",
    "\n",
    "El modelo revela que **edad, antecedentes familiares, tabaquismo, estrés, historial de presión arterial alta, IMC y consumo de sal** son los principales factores de riesgo de hipertensión, con efectos estadísticamente significativos y clínicamente relevantes. También se observa un efecto protector del sueño. Esta información permite orientar intervenciones preventivas y clínicas hacia los factores más determinantes."
   ]
  },
  {
   "cell_type": "markdown",
   "id": "f28c6811",
   "metadata": {},
   "source": [
    "## **Modelo en producción**"
   ]
  },
  {
   "cell_type": "code",
   "execution_count": 4,
   "id": "28cb3608",
   "metadata": {},
   "outputs": [
    {
     "name": "stdout",
     "output_type": "stream",
     "text": [
      "              precision    recall  f1-score   support\n",
      "\n",
      "           0       0.80      0.81      0.81       239\n",
      "           1       0.82      0.81      0.82       258\n",
      "\n",
      "    accuracy                           0.81       497\n",
      "   macro avg       0.81      0.81      0.81       497\n",
      "weighted avg       0.81      0.81      0.81       497\n",
      "\n"
     ]
    }
   ],
   "source": [
    "mod_rl = LogisticRegression()\n",
    "mod_rl.fit(X_train, y_train)\n",
    "y_pred = mod_rl.predict(X_test)\n",
    "\n",
    "print(classification_report(y_test, y_pred))"
   ]
  },
  {
   "cell_type": "markdown",
   "id": "fac7cf6a",
   "metadata": {},
   "source": [
    "El modelo con sus valores base tiene muy buenas métricas, sin embargo, aún podemos mejorarlo un poco más."
   ]
  },
  {
   "cell_type": "markdown",
   "id": "214d0228",
   "metadata": {},
   "source": [
    "## **Tunning del Modelo**"
   ]
  },
  {
   "cell_type": "code",
   "execution_count": 21,
   "id": "5ff03a2c-dfa2-4ac0-abe0-2957f750cde9",
   "metadata": {},
   "outputs": [
    {
     "name": "stdout",
     "output_type": "stream",
     "text": [
      "📈 Mejor precisión: 0.6607855679168221\n",
      "🔧 Mejores hiperparámetros:\n",
      "{'penalty_solver': 'l2__saga', 'max_iter': 483, 'C': 0.3399800882410404}\n"
     ]
    }
   ],
   "source": [
    "optuna.logging.set_verbosity(optuna.logging.WARNING)\n",
    "\n",
    "combinaciones_validas = [\n",
    "    \"l1__liblinear\",\n",
    "    \"l1__saga\",\n",
    "    \"l2__lbfgs\",\n",
    "    \"l2__liblinear\",\n",
    "    \"l2__saga\",\n",
    "    \"l2__newton-cg\",\n",
    "    \"elasticnet__saga\",\n",
    "    \"none__lbfgs\",\n",
    "    \"none__saga\",\n",
    "    \"none__newton-cg\"\n",
    "]\n",
    "\n",
    "kappa_scorer = make_scorer(cohen_kappa_score)\n",
    "\n",
    "def objective(trial):\n",
    "    combo = trial.suggest_categorical(\"penalty_solver\", combinaciones_validas)\n",
    "    penalty_str, solver = combo.split(\"__\")\n",
    "    penalty = None if penalty_str == \"none\" else penalty_str\n",
    "    \n",
    "    params = {\n",
    "        \"penalty\": penalty,\n",
    "        \"solver\": solver,\n",
    "        \"max_iter\": trial.suggest_int(\"max_iter\", 100, 1000),\n",
    "        \"random_state\": 42\n",
    "    }\n",
    "\n",
    "    if penalty is not None:\n",
    "        params[\"C\"] = trial.suggest_float(\"C\", 1e-4, 10.0, log=True)\n",
    "    if penalty == \"elasticnet\":\n",
    "        params[\"l1_ratio\"] = trial.suggest_float(\"l1_ratio\", 0.0, 1.0)\n",
    "\n",
    "    model = LogisticRegression(**params)\n",
    "    score = cross_val_score(model, X_train, y_train, cv=5, scoring=kappa_scorer)\n",
    "    return score.mean()\n",
    "\n",
    "study = optuna.create_study(direction=\"maximize\")\n",
    "study.optimize(objective, n_trials=200)\n",
    "print(\"📈 Mejor precisión:\", study.best_value)\n",
    "print(\"🔧 Mejores hiperparámetros:\")\n",
    "print(study.best_params)"
   ]
  },
  {
   "cell_type": "markdown",
   "id": "d857a2f1",
   "metadata": {},
   "source": [
    "## **Modelo Tuneado**"
   ]
  },
  {
   "cell_type": "code",
   "execution_count": 39,
   "id": "aabdb840-1c1c-4123-b4f4-3337f24407fa",
   "metadata": {},
   "outputs": [
    {
     "name": "stdout",
     "output_type": "stream",
     "text": [
      "              precision    recall  f1-score   support\n",
      "\n",
      "           0       0.81      0.82      0.81       239\n",
      "           1       0.83      0.82      0.82       258\n",
      "\n",
      "    accuracy                           0.82       497\n",
      "   macro avg       0.82      0.82      0.82       497\n",
      "weighted avg       0.82      0.82      0.82       497\n",
      "\n"
     ]
    }
   ],
   "source": [
    "mod_rl = LogisticRegression(penalty='l2', solver='saga', max_iter=919, C=0.2937620602817099)\n",
    "mod_rl.fit(X_train, y_train)\n",
    "y_pred = mod_rl.predict(X_test)\n",
    "y_proba = mod_rl.predict_proba(X_test)[:,1]\n",
    "\n",
    "print(classification_report(y_test, y_pred))"
   ]
  },
  {
   "cell_type": "markdown",
   "id": "4d2f2318",
   "metadata": {},
   "source": [
    "## **Métricas de Evaluación**"
   ]
  },
  {
   "cell_type": "markdown",
   "id": "3ac29151-6ab7-41fa-b571-8e1a0641ff7b",
   "metadata": {},
   "source": [
    "### Matthews Correlation Coefficient (MCC)"
   ]
  },
  {
   "cell_type": "code",
   "execution_count": 23,
   "id": "0d16e908-2239-4f02-b8c6-caed67c42d8a",
   "metadata": {},
   "outputs": [
    {
     "name": "stdout",
     "output_type": "stream",
     "text": [
      "MCC:  0.6334825237105253\n"
     ]
    }
   ],
   "source": [
    "mcc = matthews_corrcoef(y_test, y_pred)\n",
    "print('MCC: ', mcc)"
   ]
  },
  {
   "cell_type": "markdown",
   "id": "4717d2bb-0922-48da-b313-56c3437f2119",
   "metadata": {},
   "source": [
    "### Cohen’s Kappa"
   ]
  },
  {
   "cell_type": "code",
   "execution_count": 24,
   "id": "4dd0c7da-0b42-4096-b22a-a677123b8080",
   "metadata": {},
   "outputs": [
    {
     "name": "stdout",
     "output_type": "stream",
     "text": [
      "Kappa:  0.6334362665240192\n"
     ]
    }
   ],
   "source": [
    "kappa = cohen_kappa_score(y_test, y_pred)\n",
    "print('Kappa: ', kappa)"
   ]
  },
  {
   "cell_type": "markdown",
   "id": "d4b7f2a9-578d-47d7-9e98-dcc90e6d2b24",
   "metadata": {},
   "source": [
    "### F-beta Score"
   ]
  },
  {
   "cell_type": "code",
   "execution_count": 25,
   "id": "d9a886a9-9aaf-4bb2-80dd-6196d196a7a4",
   "metadata": {},
   "outputs": [
    {
     "name": "stdout",
     "output_type": "stream",
     "text": [
      "F1 Score:  0.8197358197358198\n"
     ]
    }
   ],
   "source": [
    "f2_score = fbeta_score(y_test, y_pred, beta=2)\n",
    "print('F1 Score: ', f2_score)"
   ]
  },
  {
   "cell_type": "markdown",
   "id": "c0ad88ee-d185-4297-ab07-9cccf6574f64",
   "metadata": {},
   "source": [
    "### Log Loss (Cross-entropy)"
   ]
  },
  {
   "cell_type": "code",
   "execution_count": 40,
   "id": "f1160dfd-daea-4ae8-8693-46f8114f513c",
   "metadata": {},
   "outputs": [
    {
     "name": "stdout",
     "output_type": "stream",
     "text": [
      "Log Loss:  0.3701826854871192\n"
     ]
    }
   ],
   "source": [
    "logloss = log_loss(y_test, y_proba)\n",
    "print('Log Loss: ', logloss)"
   ]
  },
  {
   "cell_type": "markdown",
   "id": "214b3cd9-5c81-4904-8deb-4860cb53d67d",
   "metadata": {},
   "source": [
    "### Brier Score"
   ]
  },
  {
   "cell_type": "code",
   "execution_count": 41,
   "id": "3a51e629-5ce4-4bad-a66a-34f4be7dcc23",
   "metadata": {},
   "outputs": [
    {
     "name": "stdout",
     "output_type": "stream",
     "text": [
      "Brier Score:  0.12081731537418301\n"
     ]
    }
   ],
   "source": [
    "brier = brier_score_loss(y_test, y_proba)\n",
    "print('Brier Score: ', brier)"
   ]
  },
  {
   "cell_type": "markdown",
   "id": "add26c74-c918-4dd5-847e-4b47094a0793",
   "metadata": {},
   "source": [
    "### False Positive Rate (FPR)"
   ]
  },
  {
   "cell_type": "code",
   "execution_count": 42,
   "id": "d71dc9b7-3b6e-4c35-998c-ef9945779a1a",
   "metadata": {},
   "outputs": [
    {
     "name": "stdout",
     "output_type": "stream",
     "text": [
      "False Positive Rate:  0.18410041841004185\n"
     ]
    }
   ],
   "source": [
    "tn, fp, fn, tp = confusion_matrix(y_test, y_pred).ravel()\n",
    "fpr = fp / (fp + tn)\n",
    "print('False Positive Rate: ', fpr)"
   ]
  },
  {
   "cell_type": "markdown",
   "id": "2d9a4d5c-48d8-4cbd-b246-26729f730402",
   "metadata": {},
   "source": [
    "### False Negative Rate (FNR)"
   ]
  },
  {
   "cell_type": "code",
   "execution_count": 43,
   "id": "d5abd5c1-08e0-4947-9620-7ff22ad3bee2",
   "metadata": {},
   "outputs": [
    {
     "name": "stdout",
     "output_type": "stream",
     "text": [
      "False Negative Rate:  0.1821705426356589\n"
     ]
    }
   ],
   "source": [
    "fnr = fn / (fn + tp)\n",
    "print('False Negative Rate: ', fnr)"
   ]
  },
  {
   "cell_type": "markdown",
   "id": "aa8f67db-9935-42cf-8743-02571082ed98",
   "metadata": {},
   "source": [
    "### Precision-Recall Balance (harmonic)"
   ]
  },
  {
   "cell_type": "code",
   "execution_count": 44,
   "id": "b5033720-ec40-4593-a25e-9c572038b9af",
   "metadata": {},
   "outputs": [
    {
     "name": "stdout",
     "output_type": "stream",
     "text": [
      "Precision-Recall Balance:  1.011764705882353\n"
     ]
    }
   ],
   "source": [
    "precision = precision_score(y_test, y_pred)\n",
    "recall = recall_score(y_test, y_pred)\n",
    "precision_recall_ratio = precision / recall\n",
    "print('Precision-Recall Balance: ', precision_recall_ratio)"
   ]
  },
  {
   "cell_type": "markdown",
   "id": "86cf9b10-4382-4b44-9a2c-5af0b3e99521",
   "metadata": {},
   "source": [
    "### **Resumen**"
   ]
  },
  {
   "cell_type": "markdown",
   "id": "0997b612-b4bd-4e8e-9069-26ac86513f07",
   "metadata": {},
   "source": [
    "| Métrica                       | Valor     | Interpretación                                                                                                                                                                                                                                                                 |\n",
    "| ----------------------------- | --------- | ------------------------------------------------------------------------------------------------------------------------------------------------------------------------------------------------------------------------------------------------------------------------------ |\n",
    "| **Matthews CorrCoef**         | **0.633** | Muy buen equilibrio entre clases, incluso si hay desbalance. Este valor sugiere que el modelo tiene un desempeño sólido en términos generales. MCC considera todas las entradas de la matriz de confusión y es una de las métricas más confiables para clasificación binaria.  |\n",
    "| **Cohen Kappa**               | **0.633** | Alto acuerdo corregido por azar. Implica que el modelo está clasificando significativamente mejor que el azar, y que el acuerdo con la clase real es fuerte. Muy útil cuando hay prevalencia baja o moderada.                                                                  |\n",
    "| **F2 Score**                  | **0.820** | Excelente, ya que F2 penaliza más los **falsos negativos**. En este contexto (detección médica), es crucial no pasar por alto a personas con hipertensión. Este valor sugiere que el modelo tiene **alta sensibilidad**, incluso a costa de aumentar algunos falsos positivos. |\n",
    "| **Log Loss**                  | **0.370** | Aceptable. Implica que las **probabilidades predichas son razonablemente bien calibradas**. No es perfecto, pero tampoco muy mal. Podría mejorarse con técnicas de calibración si se desea mayor precisión probabilística.                                                     |\n",
    "| **Brier Score**               | **0.121** | Muy bueno. Este valor cercano a 0 sugiere que las probabilidades predichas están bastante cerca de las etiquetas reales (0 o 1). La calibración de salida es adecuada para este tipo de decisión médica.                                                                       |\n",
    "| **False Positive Rate (FPR)** | **0.184** | Moderado: alrededor del **18.4% de personas sanas son clasificadas como hipertensas**. Esto puede generar \"ruido\" en el sistema, pero es **aceptable si el objetivo es no dejar pasar ningún caso grave**.                                                                     |\n",
    "| **False Negative Rate (FNR)** | **0.182** | Crítico: solo **18.2% de personas con hipertensión no fueron detectadas**. Este valor es **muy bueno en un contexto médico**, porque significa que más del 80% de los casos positivos fueron detectados correctamente.                                                         |\n",
    "| **Precision / Recall Ratio**  | **1.012** | Valor cercano a 1 indica que **precisión y recall están balanceados**, pero con leve inclinación hacia mayor recall. En medicina, esto es deseable, ya que se prioriza **no dejar pasar a pacientes enfermos** aunque caigan algunos falsos positivos.                           |"
   ]
  },
  {
   "cell_type": "markdown",
   "id": "b81b6198-5873-419f-b14e-b5cc7811981d",
   "metadata": {},
   "source": [
    "## **Conclusión**"
   ]
  },
  {
   "cell_type": "markdown",
   "id": "9f6c0ffc-1aff-49de-9084-e577fe7f9862",
   "metadata": {},
   "source": [
    "Después de evaluar el modelo mod_rl sobre la data de test, considero que su desempeño es bastante sólido para el objetivo que perseguimos: identificar correctamente a personas con hipertensión.\n",
    "\n",
    "Lo que más destaco es el F2 Score de 0.82, que refleja que el modelo está priorizando correctamente la detección de casos positivos, incluso si eso implica aceptar algunos falsos positivos. Esto es coherente con la naturaleza del problema, ya que en contextos de salud pública prefiero evitar falsos negativos, es decir, no pasar por alto a personas que realmente tienen hipertensión.\n",
    "\n",
    "Además, el Matthews Correlation Coefficient (0.633) y el Cohen's Kappa (0.633) me indican que el modelo tiene un rendimiento balanceado y significativamente mejor que el azar, considerando todos los aspectos de la matriz de confusión, incluso si existiese cierto desbalance entre clases.\n",
    "\n",
    "Por otro lado, la tasa de falsos negativos es baja (18.2%), lo cual considero un resultado muy positivo en este contexto. A pesar de que el modelo comete algunos falsos positivos (FPR ≈ 18.4%), es un compromiso aceptable si eso nos permite cubrir una mayor cantidad de pacientes que realmente están en riesgo.\n",
    "\n",
    "Finalmente, tanto el log loss (0.370) como el Brier score (0.121) me indican que las probabilidades predichas son razonablemente bien calibradas, lo cual es útil si queremos usar estas salidas como insumo para decisiones clínicas o posteriores etapas de intervención.\n",
    "\n",
    "En resumen, me siento conforme con el comportamiento del modelo sobre los datos de test, ya que cumple con el objetivo principal: maximizar la identificación de personas con hipertensión sin comprometer seriamente la precisión ni el balance general del modelo."
   ]
  },
  {
   "cell_type": "markdown",
   "id": "c28b9c67-4aef-4ab1-afc5-158363518f61",
   "metadata": {},
   "source": [
    "## **Visualización**"
   ]
  },
  {
   "cell_type": "markdown",
   "id": "d1565e81-acaf-4454-9211-3725ca81833d",
   "metadata": {},
   "source": [
    "### Curva ROC"
   ]
  },
  {
   "cell_type": "code",
   "execution_count": 50,
   "id": "fe09c3ce-66a4-4b10-bae9-08a88d3691bd",
   "metadata": {},
   "outputs": [
    {
     "data": {
      "image/png": "[encoded data removed]",
      "text/plain": [
       "<Figure size 400x300 with 1 Axes>"
      ]
     },
     "metadata": {},
     "output_type": "display_data"
    }
   ],
   "source": [
    "fpr, tpr, _ = roc_curve(y_test, y_proba)\n",
    "roc_auc = auc(fpr, tpr)\n",
    "\n",
    "plt.figure(figsize=(4, 3))\n",
    "plt.plot(fpr, tpr, label=f\"AUC = {roc_auc:.2f}\", color='navy')\n",
    "plt.plot([0, 1], [0, 1], linestyle='--', color='gray')\n",
    "plt.xlabel(\"False Positive Rate\")\n",
    "plt.ylabel(\"True Positive Rate\")\n",
    "plt.title(\"Curva ROC - mod_rl\")\n",
    "plt.legend(loc=\"lower right\")\n",
    "plt.grid(True)\n",
    "plt.tight_layout()\n",
    "plt.show()"
   ]
  },
  {
   "cell_type": "markdown",
   "id": "deaa96c1-a2a6-42bc-8464-88cc353972e9",
   "metadata": {},
   "source": [
    "### Curva Precision-Recall"
   ]
  },
  {
   "cell_type": "code",
   "execution_count": 56,
   "id": "91ccc6a9-bc5a-4f1c-873d-68fcc0ae3717",
   "metadata": {},
   "outputs": [
    {
     "data": {
      "image/png": "[encoded data removed]",
      "text/plain": [
       "<Figure size 400x300 with 1 Axes>"
      ]
     },
     "metadata": {},
     "output_type": "display_data"
    }
   ],
   "source": [
    "precision, recall, _ = precision_recall_curve(y_test, y_proba)\n",
    "ap = average_precision_score(y_test, y_proba)\n",
    "\n",
    "plt.figure(figsize=(4, 3))\n",
    "plt.plot(recall, precision, label=f\"AP = {ap:.2f}\", color='darkorange')\n",
    "plt.xlabel(\"Recall\")\n",
    "plt.ylabel(\"Precision\")\n",
    "plt.title(\"Curva Precision-Recall - mod_rl\")\n",
    "plt.grid(True)\n",
    "plt.legend()\n",
    "plt.tight_layout()\n",
    "plt.show()"
   ]
  },
  {
   "cell_type": "markdown",
   "id": "4cb4ef4e-ad7d-4e5f-b365-9246fa14a08d",
   "metadata": {},
   "source": [
    "### Matriz de Confusión Anotada"
   ]
  },
  {
   "cell_type": "code",
   "execution_count": 57,
   "id": "ba487b70-dc79-43e4-888e-908799041002",
   "metadata": {},
   "outputs": [
    {
     "data": {
      "image/png": "[encoded data removed]",
      "text/plain": [
       "<Figure size 400x300 with 1 Axes>"
      ]
     },
     "metadata": {},
     "output_type": "display_data"
    }
   ],
   "source": [
    "cm = confusion_matrix(y_test, y_pred)\n",
    "\n",
    "plt.figure(figsize=(4, 3))\n",
    "sns.heatmap(cm, annot=True, fmt='d', cmap=\"Blues\", cbar=False,\n",
    "            xticklabels=[\"No Hipertensión\", \"Hipertensión\"],\n",
    "            yticklabels=[\"No Hipertensión\", \"Hipertensión\"])\n",
    "plt.xlabel(\"Predicho\")\n",
    "plt.ylabel(\"Real\")\n",
    "plt.title(\"Matriz de Confusión - mod_rl\")\n",
    "plt.tight_layout()\n",
    "plt.show()"
   ]
  },
  {
   "cell_type": "markdown",
   "id": "9488cd00-4769-4a2b-8ddc-1fd7047421e5",
   "metadata": {},
   "source": [
    "### Curva de Calibración"
   ]
  },
  {
   "cell_type": "code",
   "execution_count": 67,
   "id": "4fe49904-afe9-474d-82ce-f13ea27c1e94",
   "metadata": {},
   "outputs": [
    {
     "data": {
      "image/png": "[encoded data removed]",
      "text/plain": [
       "<Figure size 400x300 with 1 Axes>"
      ]
     },
     "metadata": {},
     "output_type": "display_data"
    }
   ],
   "source": [
    "prob_true, prob_pred = calibration_curve(y_test, y_proba, n_bins=20)\n",
    "\n",
    "plt.figure(figsize=(4, 3))\n",
    "plt.plot(prob_pred, prob_true, marker='o', label=\"mod_rl\")\n",
    "plt.plot([0, 1], [0, 1], linestyle='--', color='gray', label=\"Perfecta Calibración\")\n",
    "plt.xlabel(\"Probabilidad Promedio Predicha\")\n",
    "plt.ylabel(\"Frecuencia Real\")\n",
    "plt.title(\"Curva de Calibración - mod_rl\")\n",
    "plt.grid(True)\n",
    "plt.legend()\n",
    "plt.tight_layout()\n",
    "plt.show()\n"
   ]
  },
  {
   "cell_type": "markdown",
   "id": "0a96f737-a856-449b-b574-57dcb033c0ad",
   "metadata": {},
   "source": [
    "### Gráfico de Métricas vs Umbral de Decisión"
   ]
  },
  {
   "cell_type": "code",
   "execution_count": 72,
   "id": "32e98ccc-053a-476f-beab-768432d601bb",
   "metadata": {},
   "outputs": [
    {
     "data": {
      "image/png": "[encoded data removed]",
      "text/plain": [
       "<Figure size 400x300 with 1 Axes>"
      ]
     },
     "metadata": {},
     "output_type": "display_data"
    }
   ],
   "source": [
    "thresholds = np.linspace(0, 1, 100)\n",
    "precisions = []\n",
    "recalls = []\n",
    "f1s = []\n",
    "\n",
    "for thresh in thresholds:\n",
    "    preds = (y_proba >= thresh).astype(int)\n",
    "    precisions.append(precision_score(y_test, preds, zero_division=0))\n",
    "    recalls.append(recall_score(y_test, preds, zero_division=0))\n",
    "    f1s.append(f1_score(y_test, preds, zero_division=0))\n",
    "\n",
    "plt.figure(figsize=(4, 3))\n",
    "plt.plot(thresholds, precisions, label=\"Precision\", color='blue')\n",
    "plt.plot(thresholds, recalls, label=\"Recall\", color='green')\n",
    "plt.plot(thresholds, f1s, label=\"F1 Score\", color='red')\n",
    "plt.axvline(0.5, linestyle='--', color='gray', label=\"Umbral 0.5\")\n",
    "plt.xlabel(\"Umbral de decisión\")\n",
    "plt.ylabel(\"Valor de la métrica\")\n",
    "plt.title(\"Evolución de métricas vs Umbral - mod_rl\")\n",
    "plt.legend()\n",
    "plt.grid(True)\n",
    "plt.tight_layout()\n",
    "plt.show()"
   ]
  },
  {
   "cell_type": "markdown",
   "id": "f983d23a-4ef3-4a5a-b8fe-a448bf3a4572",
   "metadata": {},
   "source": [
    "## **Interpretación del Modelo Final**"
   ]
  },
  {
   "cell_type": "code",
   "execution_count": 164,
   "id": "c6c20321-a5b1-490f-a9f0-f838e1e7aa6f",
   "metadata": {},
   "outputs": [
    {
     "data": {
      "text/html": [
       "<div>\n",
       "<style scoped>\n",
       "    .dataframe tbody tr th:only-of-type {\n",
       "        vertical-align: middle;\n",
       "    }\n",
       "\n",
       "    .dataframe tbody tr th {\n",
       "        vertical-align: top;\n",
       "    }\n",
       "\n",
       "    .dataframe thead th {\n",
       "        text-align: right;\n",
       "    }\n",
       "</style>\n",
       "<table border=\"1\" class=\"dataframe\">\n",
       "  <thead>\n",
       "    <tr style=\"text-align: right;\">\n",
       "      <th></th>\n",
       "      <th>Coeficiente (log-odds)</th>\n",
       "      <th>Odds Ratio</th>\n",
       "    </tr>\n",
       "  </thead>\n",
       "  <tbody>\n",
       "    <tr>\n",
       "      <th>Smoking_Status</th>\n",
       "      <td>1.9936</td>\n",
       "      <td>7.3421</td>\n",
       "    </tr>\n",
       "    <tr>\n",
       "      <th>BP_History</th>\n",
       "      <td>1.9749</td>\n",
       "      <td>7.2062</td>\n",
       "    </tr>\n",
       "    <tr>\n",
       "      <th>Family_History</th>\n",
       "      <td>1.9032</td>\n",
       "      <td>6.7073</td>\n",
       "    </tr>\n",
       "    <tr>\n",
       "      <th>Stress_Score</th>\n",
       "      <td>1.5371</td>\n",
       "      <td>4.6509</td>\n",
       "    </tr>\n",
       "    <tr>\n",
       "      <th>Age</th>\n",
       "      <td>1.4423</td>\n",
       "      <td>4.2306</td>\n",
       "    </tr>\n",
       "    <tr>\n",
       "      <th>BMI</th>\n",
       "      <td>0.7136</td>\n",
       "      <td>2.0413</td>\n",
       "    </tr>\n",
       "    <tr>\n",
       "      <th>Salt_Intake</th>\n",
       "      <td>0.6647</td>\n",
       "      <td>1.9439</td>\n",
       "    </tr>\n",
       "    <tr>\n",
       "      <th>Medication_Diuretic</th>\n",
       "      <td>0.2459</td>\n",
       "      <td>1.2787</td>\n",
       "    </tr>\n",
       "    <tr>\n",
       "      <th>Exercise_Level</th>\n",
       "      <td>0.0995</td>\n",
       "      <td>1.1046</td>\n",
       "    </tr>\n",
       "    <tr>\n",
       "      <th>Medication_Not specified</th>\n",
       "      <td>0.0024</td>\n",
       "      <td>1.0024</td>\n",
       "    </tr>\n",
       "    <tr>\n",
       "      <th>Medication_Other</th>\n",
       "      <td>-0.0835</td>\n",
       "      <td>0.9199</td>\n",
       "    </tr>\n",
       "    <tr>\n",
       "      <th>Medication_Beta Blocker</th>\n",
       "      <td>-0.1256</td>\n",
       "      <td>0.8820</td>\n",
       "    </tr>\n",
       "    <tr>\n",
       "      <th>Sleep_Duration</th>\n",
       "      <td>-0.7516</td>\n",
       "      <td>0.4716</td>\n",
       "    </tr>\n",
       "  </tbody>\n",
       "</table>\n",
       "</div>"
      ],
      "text/plain": [
       "                          Coeficiente (log-odds)  Odds Ratio\n",
       "Smoking_Status                            1.9936      7.3421\n",
       "BP_History                                1.9749      7.2062\n",
       "Family_History                            1.9032      6.7073\n",
       "Stress_Score                              1.5371      4.6509\n",
       "Age                                       1.4423      4.2306\n",
       "BMI                                       0.7136      2.0413\n",
       "Salt_Intake                               0.6647      1.9439\n",
       "Medication_Diuretic                       0.2459      1.2787\n",
       "Exercise_Level                            0.0995      1.1046\n",
       "Medication_Not specified                  0.0024      1.0024\n",
       "Medication_Other                         -0.0835      0.9199\n",
       "Medication_Beta Blocker                  -0.1256      0.8820\n",
       "Sleep_Duration                           -0.7516      0.4716"
      ]
     },
     "execution_count": 164,
     "metadata": {},
     "output_type": "execute_result"
    }
   ],
   "source": [
    "coeficientes = pd.Series(mod_rl.coef_[0], index=X_train.columns)\n",
    "odds_ratios = np.exp(coeficientes)\n",
    "\n",
    "resultado = pd.DataFrame({\n",
    "    'Coeficiente (log-odds)': coeficientes.round(4),\n",
    "    'Odds Ratio': odds_ratios.round(4)\n",
    "})\n",
    "\n",
    "resultado.sort_values('Odds Ratio', ascending=False)"
   ]
  },
  {
   "cell_type": "markdown",
   "id": "002b921e-7391-454d-a6b1-291027e3d63e",
   "metadata": {},
   "source": [
    "* **Variables con fuerte asociación positiva (riesgo elevado)**\n",
    "\n",
    "    | Variable                                    | Odds Ratio | Interpretación                                                                                                                               |\n",
    "    | ------------------------------------------- | ---------- | -------------------------------------------------------------------------------------------------------------------------------------------- |\n",
    "    | **Smoking\\_Status** (fumador)               | **7.34**   | Los individuos fumadores tienen odds de hipertensión **7.3 veces mayores** que los no fumadores. Es el predictor más fuerte del modelo.      |\n",
    "    | **BP\\_History** (historial de presión alta) | **7.21**   | Tener historial de presión alta multiplica por **7.2** las probabilidades de tener hipertensión actualmente.                                 |\n",
    "    | **Family\\_History** (historial familiar)    | **6.71**   | Tener antecedentes familiares de hipertensión **multiplica por 6.7** los odds de padecerla.                                                  |\n",
    "    | **Stress\\_Score**                           | **4.65**   | Cada punto adicional en el puntaje de estrés **multiplica por 4.65** los odds de hipertensión.                                               |\n",
    "    | **Age**                                     | **4.23**   | Cada unidad adicional de edad (probablemente años) **multiplica por 4.2** los odds. Esto indica un efecto fuertemente creciente con la edad. |\n",
    "    | **BMI**                                     | **2.04**   | Cada unidad adicional en el índice de masa corporal **duplica** el riesgo. Muestra la relación entre obesidad y presión alta.                |\n",
    "    | **Salt\\_Intake**                            | **1.94**   | Cada unidad adicional de ingesta de sal **casi duplica** los odds de hipertensión.                                                           |\n",
    "\n",
    "* **Variables con efecto positivo leve**\n",
    "    \n",
    "    | Variable                 | Odds Ratio | Interpretación                                                                                                                                                       |\n",
    "    | ------------------------ | ---------- | -------------------------------------------------------------------------------------------------------------------------------------------------------------------- |\n",
    "    | **Medication\\_Diuretic** | **1.28**   | Tomar diuréticos está asociado con un aumento moderado (28%) en los odds de hipertensión. Puede reflejar que son recetados a quienes ya la padecen.                  |\n",
    "    | **Exercise\\_Level**      | **1.10**   | A mayor nivel de ejercicio, hay un **leve aumento** en los odds, lo cual podría ser contradictorio, pero también podría reflejar ejercicio posterior al diagnóstico. |\n",
    "\n",
    "\n",
    "* **Variables con efecto casi neutro**\n",
    "\n",
    "    | Variable                      | Odds Ratio | Interpretación                                                          |\n",
    "    | ----------------------------- | ---------- | ----------------------------------------------------------------------- |\n",
    "    | **Medication\\_Not specified** | **1.002**  | Efecto prácticamente nulo. No hay evidencia de que influya en los odds. |\n",
    "\n",
    "* **Variables con efecto protector (odds ratio < 1)**\n",
    "\n",
    "    | Variable                     | Odds Ratio | Interpretación                                                                                                                                          |\n",
    "    | ---------------------------- | ---------- | ------------------------------------------------------------------------------------------------------------------------------------------------------- |\n",
    "    | **Medication\\_Other**        | **0.92**   | Ligera reducción del riesgo en quienes usan esta clase de medicamentos (odds 8% menores).                                                               |\n",
    "    | **Medication\\_Beta Blocker** | **0.88**   | Uso de beta bloqueadores se asocia con una **reducción del 12%** en los odds de hipertensión. Posible efecto terapéutico.                               |\n",
    "    | **Sleep\\_Duration**          | **0.47**   | Por cada unidad de aumento en la duración del sueño, los odds se **reducen a menos de la mitad**. Es el único predictor con un fuerte efecto protector. |\n",
    "\n",
    "**Conclusión General:**\n",
    "\n",
    "* Variables como fumar, historial de presión alta, antecedentes familiares, estrés, edad y sal son los factores de riesgo más importantes en este modelo.\n",
    "* Ejercicio y algunos medicamentos tienen efectos débiles o confusos, posiblemente porque las personas cambian su estilo de vida luego del diagnóstico.\n",
    "* Dormir más se asocia con menor riesgo."
   ]
  },
  {
   "cell_type": "markdown",
   "id": "b18f8103-3469-48fb-815a-6ab2827d735f",
   "metadata": {},
   "source": [
    "## **Exportación**"
   ]
  },
  {
   "cell_type": "code",
   "execution_count": 161,
   "id": "ab05d424-53a2-4f9b-9941-f3fd0b7a08b3",
   "metadata": {},
   "outputs": [
    {
     "data": {
      "text/plain": [
       "['mod_rl_hipertension.pkl']"
      ]
     },
     "execution_count": 161,
     "metadata": {},
     "output_type": "execute_result"
    }
   ],
   "source": [
    "joblib.dump(mod_rl, 'mod_rl_hipertension.pkl')"
   ]
  },
  {
   "cell_type": "markdown",
   "id": "0f7b47a7-2274-4d54-9c48-b5a462cc8f2c",
   "metadata": {},
   "source": [
    "## **Versión del Modelo**"
   ]
  },
  {
   "cell_type": "code",
   "execution_count": 163,
   "id": "571efab9-8824-43bb-a998-96774d812e6d",
   "metadata": {},
   "outputs": [],
   "source": [
    "version = '0.0.0'"
   ]
  }
 ],
 "metadata": {
  "kernelspec": {
   "display_name": "Python 3 (ipykernel)",
   "language": "python",
   "name": "python3"
  },
  "language_info": {
   "codemirror_mode": {
    "name": "ipython",
    "version": 3
   },
   "file_extension": ".py",
   "mimetype": "text/x-python",
   "name": "python",
   "nbconvert_exporter": "python",
   "pygments_lexer": "ipython3",
   "version": "3.12.7"
  }
 },
 "nbformat": 4,
 "nbformat_minor": 5
}
